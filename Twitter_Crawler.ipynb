{
 "cells": [
  {
   "cell_type": "code",
   "execution_count": 268,
   "metadata": {},
   "outputs": [
    {
     "name": "stdout",
     "output_type": "stream",
     "text": [
      "Working\n"
     ]
    }
   ],
   "source": [
    "print(\"Working\")"
   ]
  },
  {
   "cell_type": "code",
   "execution_count": 269,
   "metadata": {},
   "outputs": [],
   "source": [
    "import json\n",
    "with open('twitter_credentials.json') as f:\n",
    "    credentials = json.load(f)"
   ]
  },
  {
   "cell_type": "code",
   "execution_count": 270,
   "metadata": {
    "scrolled": true
   },
   "outputs": [],
   "source": [
    "import re\n",
    "# pip install tweepy\n",
    "import tweepy\n",
    "\n",
    "auth = tweepy.OAuthHandler(credentials['CONSUMER_KEY'], credentials['CONSUMER_SECRET'])\n",
    "auth.set_access_token(credentials['ACCESS_TOKEN'], credentials['ACCESS_SECRET'])\n",
    "\n",
    "api = tweepy.API(auth)"
   ]
  },
  {
   "cell_type": "code",
   "execution_count": 271,
   "metadata": {},
   "outputs": [],
   "source": [
    "def clear_tweet(tweet, toRemove):\n",
    "    return tweet.replace(toRemove, \"\")"
   ]
  },
  {
   "cell_type": "code",
   "execution_count": 272,
   "metadata": {},
   "outputs": [],
   "source": [
    "#override tweepy.StreamListener to add logic to on_status\n",
    "class MyStreamListener(tweepy.StreamListener):\n",
    "    def __init__(self, api=None):\n",
    "        super(MyStreamListener, self).__init__()\n",
    "        self.num_tweets = 0\n",
    "\n",
    "    def on_status(self, status):\n",
    "        # don't get retweets\n",
    "        if not status.retweeted and 'RT @' not in status.text:\n",
    "            self.num_tweets += 1\n",
    "            # stop at 20 tweets\n",
    "            if self.num_tweets < 20:\n",
    "                myjson = json.loads(json.dumps(status._json))\n",
    "                print(\"======== TWEET ========\")\n",
    "                # get tweet text\n",
    "                if 'extended_tweet' not in myjson:\n",
    "                    tweet = myjson['text']\n",
    "                else:\n",
    "                    tweet = myjson['extended_tweet']['full_text']\n",
    "                # clean tweet from urls\n",
    "                tweet = re.sub(r\"(?:\\@|https?\\://)\\S+\", \"\", tweet)\n",
    "                print(tweet)\n",
    "                return True\n",
    "            else:\n",
    "                print(self.num_tweets)\n",
    "                return False        \n",
    "    \n",
    "    def on_error(self, status_code):\n",
    "        if status_code == 420:\n",
    "            #returning False in on_error disconnects the stream\n",
    "            return False\n",
    "\n",
    "        # returning non-False reconnects the stream, with backoff."
   ]
  },
  {
   "cell_type": "code",
   "execution_count": 273,
   "metadata": {
    "scrolled": false
   },
   "outputs": [
    {
     "name": "stdout",
     "output_type": "stream",
     "text": [
      "======== TWEET ========\n",
      " Russians pumped propaganda into the UK and they fell for it just like the Americans did with Trump. Sad.\n",
      "======== TWEET ========\n",
      " I quote Steven Choi in my piece on the citizenship question trial \n",
      "======== TWEET ========\n",
      "Making ready to do my \"happy dance\"!\n",
      "======== TWEET ========\n",
      " Hi the unroll you asked for: Thread by  \"I just broke all my own rules And yelled at my Trump loving Father on the phone, hung up on him, too I can’t help it I t […]\" #ParadiseFire #ParadiseLost \n",
      "Talk to you soon. 🤖\n",
      "======== TWEET ========\n",
      "...and that people need ID to buy groceries.\n",
      "\n",
      "#25thamendment #UnfitForOffice\n",
      "======== TWEET ========\n",
      " I can't stand Trump. But Hillary running is the worst idea for the Dems. They need someone young, with a platform that people can get behind. They need new blood.\n",
      "======== TWEET ========\n",
      "One-on-one confrontation is what they need because a street brawl will only be good optics for the left. After a riot by Antifa, they need to be followed home by patriots who will have a discussion with them.\n",
      "======== TWEET ========\n",
      " Keep showing the world that big brain of yours, hopefully soon, you will be behind bars, or at the very least, what you would see as true prison, irrelevant. No reasonably adjusted person truly likes you, you know that, right? \n",
      "======== TWEET ========\n",
      " “Any efforts by Acting AG Whitaker to block indictments will go public quickly and throw Washington into deep crisis. For Trump, there are no exits or off-ramps left.”\n",
      "\n",
      "I\n",
      "======== TWEET ========\n",
      " I pray AG Whitaker will step up to the plate. I will always believe Trump was set up with Sessions. Sessions was part of ALL this. No telling how deep it goes so the head must be cut off this farce. Watergate was NOTHING compared to this!\n",
      "======== TWEET ========\n",
      "love this guy. good stuff. Some More News.\n",
      "\n",
      "America's Elections, Trump's Press Abuse, Tucker Carlson's Protest Lies,...  via \n",
      "======== TWEET ========\n",
      " trump merica 🙃\n",
      "======== TWEET ========\n",
      "Maryland Challenges Trump's Pick for Acting Attorney General \n",
      "======== TWEET ========\n",
      ". lets hope it’s Tre45on himself.\n",
      "======== TWEET ========\n",
      "Lies. They are called lies.\n",
      "======== TWEET ========\n",
      " BLUEWAVE Trump Jr says love it.\n",
      "======== TWEET ========\n",
      "Donald Trump &amp; CIA MUST Realise Achieving Middle Eastern Peace &amp; Security Will Require Having Democratic Leaders &amp; Governments Working In Compliance With Objective/Holistic Constitutions With The Hundreds of Millions of Middle Eastern Citizens.\n",
      "======== TWEET ========\n",
      " If you were married to Donald Trump, your eyes would be closing too.\n",
      "======== TWEET ========\n",
      "  President Trump is NEVER MIA!  Just not in your peripheral\n",
      "20\n"
     ]
    }
   ],
   "source": [
    "myStreamListener = MyStreamListener()\n",
    "myStream = tweepy.Stream(auth = api.auth, listener=myStreamListener)\n",
    "myStream.filter(track=['trump'], languages=[\"en\"], async=True)"
   ]
  },
  {
   "cell_type": "code",
   "execution_count": null,
   "metadata": {},
   "outputs": [],
   "source": []
  },
  {
   "cell_type": "code",
   "execution_count": null,
   "metadata": {},
   "outputs": [],
   "source": []
  }
 ],
 "metadata": {
  "kernelspec": {
   "display_name": "Python 3",
   "language": "python",
   "name": "python3"
  },
  "language_info": {
   "codemirror_mode": {
    "name": "ipython",
    "version": 3
   },
   "file_extension": ".py",
   "mimetype": "text/x-python",
   "name": "python",
   "nbconvert_exporter": "python",
   "pygments_lexer": "ipython3",
   "version": "3.6.5"
  }
 },
 "nbformat": 4,
 "nbformat_minor": 2
}
